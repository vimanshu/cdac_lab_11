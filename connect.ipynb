{
 "cells": [
  {
   "cell_type": "code",
   "execution_count": 105,
   "metadata": {},
   "outputs": [],
   "source": [
    "import mysql.connector\n",
    "\n",
    "cnx = mysql.connector.connect(  user='root', \n",
    "                                password='Sql@2021',\n",
    "                                host='127.0.0.1',\n",
    "                                database='cdac_lab_11')\n"
   ]
  },
  {
   "cell_type": "code",
   "execution_count": 106,
   "metadata": {},
   "outputs": [],
   "source": [
    "TABLES = {}\n",
    "TABLES['CLIENT_MASTER'] = (\n",
    "    \n",
    "    '''\n",
    "        CREATE TABLE CLIENT_MASTER (\n",
    "            CLIENTNO VARCHAR(6) PRIMARY KEY,\n",
    "            NAME VARCHAR(20) NOT NULL,\n",
    "            CITY VARCHAR(15),\n",
    "            PINCODE INT(8),\n",
    "            STATE VARCHAR(15),\n",
    "            BALDUE INT(10)\n",
    "        )\n",
    "\n",
    "    '''\n",
    ")\n",
    "\n",
    "TABLES['PRODUCT_MASTER'] = (\n",
    "    \n",
    "    '''\n",
    "        CREATE TABLE PRODUCT_MASTER (\n",
    "            PRODUCTNO VARCHAR(6) PRIMARY KEY CHECK(PRODUCTNO LIKE 'P%'),\n",
    "            DESCRIPTION VARCHAR(15) NOT NULL,\n",
    "            PROFITPERCENT DECIMAL(4,2) NOT NULL,\n",
    "            UNITMEASURE VARCHAR(10) NOT NULL,\n",
    "            QTYONHAND INT(8) NOT NULL,\n",
    "            REORDERLVL INT(8) NOT NULL,\n",
    "            SELLPRICE DECIMAL(8,2) NOT NULL,\n",
    "            COSTPRICE DECIMAL(8,2) NOT NULL\n",
    "        )\n",
    "\n",
    "    '''\n",
    ")\n",
    "\n",
    "TABLES['SALESMAN_MASTER'] = (\n",
    "    \n",
    "    '''\n",
    "        CREATE TABLE SALESMAN_MASTER (\n",
    "            SALESMANNO VARCHAR(6) PRIMARY KEY CHECK(SALESMANNO LIKE 'S%'),\n",
    "            SALESMANNAME VARCHAR(20) NOT NULL,\n",
    "            ADDRESS1 VARCHAR(30) NOT NULL,\n",
    "            ADDRESS2 VARCHAR(30),\n",
    "            CITY VARCHAR(20),\n",
    "            PINCODE INT(8),\n",
    "            STATE VARCHAR(20),\n",
    "            SALAMT DECIMAL(8,2) NOT NULL,\n",
    "            TGTTOGET DECIMAL(6,2) NOT NULL,\n",
    "            YTDSALES DECIMAL(6,2) NOT NULL,\n",
    "            REMARKS VARCHAR(60)\n",
    "        )\n",
    "\n",
    "    '''\n",
    ")\n",
    "\n",
    "TABLES['SALES_ORDER'] = (\n",
    "    \n",
    "    '''\n",
    "        CREATE TABLE SALES_ORDER (\n",
    "            ORDERNO VARCHAR(6) PRIMARY KEY CHECK (ORDERNO LIKE 'O%'),\n",
    "            CLIENTNO VARCHAR(6),\n",
    "            FOREIGN KEY (CLIENTNO) REFERENCES CLIENT_MASTER(CLIENTNO),\n",
    "            ORDERDATE DATE NOT NULL,\n",
    "            DELYADDR VARCHAR(25),\n",
    "            SALESMANNO VARCHAR(6),\n",
    "            FOREIGN KEY (SALESMANNO) REFERENCES SALESMAN_MASTER(SALESMANNO),\n",
    "            DELYTYPE CHAR(1),\n",
    "            BILLYN CHAR(1),\n",
    "            ORDERSTATUS VARCHAR(10)\n",
    "            \n",
    "        )\n",
    "\n",
    "    '''\n",
    ")\n",
    "\n",
    "TABLES['SALES_ORDER_DETAILS'] = (\n",
    "    \n",
    "    '''\n",
    "        CREATE TABLE SALES_ORDER_DETAILS (\n",
    "            ORDERNO VARCHAR(6),\n",
    "            FOREIGN KEY (ORDERNO) REFERENCES SALES_ORDER(ORDERNO),\n",
    "            PRODUCTNO VARCHAR(6),\n",
    "            FOREIGN KEY (PRODUCTNO) REFERENCES PRODUCT_MASTER(PRODUCTNO),\n",
    "            QTYORDERED INT(8),\n",
    "            QTYDISP INT(8),\n",
    "            PRODUCTRATE DECIMAL(10,2)\n",
    "            \n",
    "        )\n",
    "\n",
    "    '''\n",
    ")"
   ]
  },
  {
   "cell_type": "code",
   "execution_count": 107,
   "metadata": {},
   "outputs": [
    {
     "name": "stdout",
     "output_type": "stream",
     "text": [
      "Creating table CLIENT_MASTER: already exists.\n",
      "Creating table PRODUCT_MASTER: already exists.\n",
      "Creating table SALESMAN_MASTER: already exists.\n",
      "Creating table SALES_ORDER: already exists.\n",
      "Creating table SALES_ORDER_DETAILS: already exists.\n"
     ]
    }
   ],
   "source": [
    "from mysql.connector import errorcode\n",
    "cursor = cnx.cursor()\n",
    "for table_name in TABLES:\n",
    "    table_description = TABLES[table_name]\n",
    "    try:\n",
    "        print(\"Creating table {}: \".format(table_name), end='')\n",
    "        cursor.execute(table_description)\n",
    "    except mysql.connector.Error as err:\n",
    "        if err.errno == errorcode.ER_TABLE_EXISTS_ERROR:\n",
    "            print(\"already exists.\")\n",
    "        else:\n",
    "            print(err.msg)\n",
    "    else:\n",
    "        print(\"OK\")\n",
    "\n",
    "cursor.close()\n",
    "cnx.close()"
   ]
  },
  {
   "cell_type": "code",
   "execution_count": 108,
   "metadata": {},
   "outputs": [],
   "source": [
    "# CREATED THE TABLES AND WE NEED TO INSERT DATA INTO MYSQL DB- CDAC_LAB_11\n",
    "\n",
    "# adding data to the mysql database is like doing a typing work\n",
    "\n",
    "# have inserted the data into tabe using mysql workbench.😄\n",
    "\n",
    "\n"
   ]
  },
  {
   "cell_type": "code",
   "execution_count": 109,
   "metadata": {},
   "outputs": [
    {
     "name": "stdout",
     "output_type": "stream",
     "text": [
      "hi, welcome to the sql cdac database: 😄\n",
      "CMySQLCursor: (Nothing executed yet)\n",
      "('CLIENTNO', b'varchar(6)', 'NO', 'PRI', None, '')\n",
      "('NAME', b'varchar(20)', 'NO', '', None, '')\n",
      "('CITY', b'varchar(15)', 'YES', '', None, '')\n",
      "('PINCODE', b'int', 'YES', '', None, '')\n",
      "('STATE', b'varchar(15)', 'YES', '', None, '')\n",
      "('BALDUE', b'int', 'YES', '', None, '')\n"
     ]
    }
   ],
   "source": [
    "# let's create a connection to the database\n",
    "# let's create a connection to the database\n",
    "\n",
    "import mysql.connector\n",
    "\n",
    "cnx = mysql.connector.connect(\n",
    "    user = 'root',\n",
    "    password = 'Sql@2021',\n",
    "    host = 'localhost',\n",
    "    database = 'cdac_lab_11'\n",
    ")\n",
    "\n",
    "if cnx.is_connected:\n",
    "    print('hi, welcome to the sql cdac database: 😄')\n",
    "\n",
    "\n",
    "# now need to query the cdac database.\n",
    "# cursor objects interact with mysql server [to execute sql queries]\n",
    "cursor = cnx.cursor()\n",
    "\n",
    "print(cursor)\n",
    "\n",
    "\n",
    "sql_query = '''\n",
    "    DESC CLIENT_MASTER\n",
    "''' \n",
    "cursor.execute(sql_query)\n",
    "\n",
    "for cols in cursor:\n",
    "    print(cols)\n"
   ]
  },
  {
   "cell_type": "code",
   "execution_count": 110,
   "metadata": {},
   "outputs": [
    {
     "name": "stdout",
     "output_type": "stream",
     "text": [
      "('C00001', 'Ivan Bayross', 'Mumbai', 400054, 'Maharastra', 15000)\n",
      "('C00003', 'Chhaya Bankar', 'Mumbai', 400057, 'Maharastra', 5000)\n",
      "('C00004', 'Ashwini Joshi', 'Banglore', 560001, 'karnataka', 0)\n",
      "('C00005', 'hansel Colaco', 'Mumbai', 400060, 'Maharastra', 2000)\n",
      "('C00006', 'Deepak Sharma', 'Mangalore', 560050, 'Karnataka', 0)\n"
     ]
    }
   ],
   "source": [
    "sql_query = '''\n",
    "    SELECT *\n",
    "    FROM CLIENT_MASTER\n",
    "    \n",
    "''' \n",
    "cursor.execute(sql_query)\n",
    "\n",
    "for cols in cursor:\n",
    "    print(cols)"
   ]
  },
  {
   "cell_type": "code",
   "execution_count": 111,
   "metadata": {},
   "outputs": [
    {
     "name": "stdout",
     "output_type": "stream",
     "text": [
      "('hansel Colaco',)\n"
     ]
    }
   ],
   "source": [
    "# a. List the names of all clients having ‘a’ as the second letter in their names.\n",
    "\n",
    "sql_query = ''' \n",
    "            SELECT NAME\n",
    "            FROM CLIENT_MASTER\n",
    "            WHERE NAME LIKE '_a%'\n",
    "'''\n",
    "cursor.execute(sql_query)\n",
    "\n",
    "for record in cursor:\n",
    "    print(record)"
   ]
  },
  {
   "cell_type": "code",
   "execution_count": 112,
   "metadata": {},
   "outputs": [
    {
     "name": "stdout",
     "output_type": "stream",
     "text": [
      "('NAME',)\n",
      "('Ivan Bayross',)\n",
      "('Chhaya Bankar',)\n",
      "('hansel Colaco',)\n",
      "('Deepak Sharma',)\n"
     ]
    }
   ],
   "source": [
    "# b. List the clients who stay in a city whose first letter is ‘M’.\n",
    "\n",
    "sql_query = ''' \n",
    "            SELECT NAME\n",
    "            FROM CLIENT_MASTER\n",
    "            WHERE CITY LIKE 'M%'\n",
    "'''\n",
    "# the class query_exec is a helper class to excute and show the query.\n",
    "class query_exec:\n",
    "    def query(self,sql_query):\n",
    "        self.sql_query = sql_query\n",
    "        cursor.execute(sql_query)\n",
    "\n",
    "        print(cursor.column_names)\n",
    "        for record in cursor:\n",
    "            print(record) \n",
    "\n",
    "q = query_exec() # object of query_exec class\n",
    "\n",
    "q.query(sql_query)"
   ]
  },
  {
   "cell_type": "code",
   "execution_count": 113,
   "metadata": {},
   "outputs": [
    {
     "name": "stdout",
     "output_type": "stream",
     "text": [
      "('CLIENTNO', 'NAME')\n",
      "('C00004', 'Ashwini Joshi')\n",
      "('C00006', 'Deepak Sharma')\n"
     ]
    }
   ],
   "source": [
    "# c. List all clients who stay in ‘Bangalore’ or ‘Mangalore’.\n",
    "\n",
    "sql_query = ''' \n",
    "            SELECT CLIENTNO, NAME\n",
    "            FROM CLIENT_MASTER\n",
    "            WHERE CITY = 'Banglore' OR CITY = 'Mangalore'\n",
    "\n",
    "'''\n",
    "\n",
    "q.query(sql_query)"
   ]
  },
  {
   "cell_type": "code",
   "execution_count": 114,
   "metadata": {},
   "outputs": [
    {
     "name": "stdout",
     "output_type": "stream",
     "text": [
      "('CLIENTNO', 'NAME')\n",
      "('C00001', 'Ivan Bayross')\n"
     ]
    }
   ],
   "source": [
    "# d. List all clients whose BalDue is greater than value 10000.\n",
    "\n",
    "sql_query = ''' \n",
    "            SELECT CLIENTNO, NAME\n",
    "            FROM CLIENT_MASTER\n",
    "            WHERE BALDUE > 10000\n",
    "\n",
    "'''\n",
    "\n",
    "q.query(sql_query)"
   ]
  },
  {
   "cell_type": "code",
   "execution_count": 115,
   "metadata": {},
   "outputs": [
    {
     "name": "stdout",
     "output_type": "stream",
     "text": [
      "('ORDERNO', 'CLIENTNO', 'ORDERDATE', 'DELYADDR', 'SALESMANNO', 'DELYTYPE', 'BILLYN', 'DELYDATE', 'ORDERSTATUS')\n",
      "('O19001', 'C00001', datetime.date(2002, 6, 12), 'Delhi', 'S00001', 'F', 'N', datetime.date(2002, 7, 20), 'In Process')\n",
      "('O19003', 'C00001', datetime.date(2002, 2, 4), 'Delhi', 'S00002', 'F', 'Y', datetime.date(2002, 4, 7), 'Fulfilled')\n",
      "('O19008', 'C00005', datetime.date(2002, 5, 24), 'Delhi', 'S00004', 'F', 'N', datetime.date(1996, 6, 26), 'In Process')\n",
      "('O46866', 'C00004', datetime.date(2002, 5, 20), 'Delhi', 'S00001', 'P', 'N', datetime.date(2002, 5, 22), 'In Process')\n"
     ]
    }
   ],
   "source": [
    "# e. List all information from the Sales_order table for order placed in the month of \n",
    "#    June.\n",
    "\n",
    "sql_query = ''' \n",
    "            SELECT *\n",
    "            FROM SALES_ORDER\n",
    "        \n",
    "\n",
    "'''\n",
    "q.query(sql_query)"
   ]
  },
  {
   "cell_type": "code",
   "execution_count": 116,
   "metadata": {},
   "outputs": [
    {
     "name": "stdout",
     "output_type": "stream",
     "text": [
      "('ORDERNO', 'CLIENTNO', 'ORDERDATE', 'DELYADDR', 'SALESMANNO', 'DELYTYPE', 'BILLYN', 'DELYDATE', 'ORDERSTATUS')\n",
      "('O19001', 'C00001', datetime.date(2002, 6, 12), 'Delhi', 'S00001', 'F', 'N', datetime.date(2002, 7, 20), 'In Process')\n"
     ]
    }
   ],
   "source": [
    "# looking at the table i know that i need datetime from python to set a timeline\n",
    "from datetime import datetime as dt\n",
    "query_month_start = dt(2002,6,1)\n",
    "query_month_end = dt(2002,6,30)\n",
    "sql_query = ''' \n",
    "            SELECT *\n",
    "            FROM SALES_ORDER\n",
    "            WHERE ORDERDATE BETWEEN %s AND %s\n",
    "        \n",
    "\n",
    "'''\n",
    "cursor.execute(sql_query, (query_month_start, query_month_end))\n",
    "\n",
    "print(cursor.column_names)\n",
    "\n",
    "for record in cursor:\n",
    "    print(record)\n"
   ]
  },
  {
   "cell_type": "code",
   "execution_count": 125,
   "metadata": {},
   "outputs": [
    {
     "name": "stdout",
     "output_type": "stream",
     "text": [
      "[('O19001', datetime.date(2002, 6, 12)), ('O19003', datetime.date(2002, 2, 4)), ('O19008', datetime.date(2002, 5, 24)), ('O46866', datetime.date(2002, 5, 20))]\n",
      "[datetime.date(2002, 6, 12), datetime.date(2002, 2, 4), datetime.date(2002, 5, 24), datetime.date(2002, 5, 20)]\n",
      "O19001 Wed\n",
      "O19003 Mon\n",
      "O19008 Fri\n",
      "O46866 Mon\n"
     ]
    }
   ],
   "source": [
    "# f. List the Order No & day on which clients placed their order.\n",
    "\n",
    "\n",
    "sql_query = ''' \n",
    "            SELECT ORDERNO,ORDERDATE\n",
    "            FROM SALES_ORDER\n",
    "            \n",
    "'''\n",
    "\n",
    "cursor.execute(sql_query)\n",
    "\n",
    "records = cursor.fetchall() # lists out the data\n",
    "print(records)\n",
    "\n",
    "row = [item[1] for item in records] #list comprehension\n",
    "print(row)\n",
    "\n",
    "for i in range(len(row)):\n",
    "    print(records[i][0],row[i].strftime('%a'))\n",
    "\n",
    "\n",
    "   \n",
    "\n",
    "    \n",
    "        \n"
   ]
  },
  {
   "cell_type": "code",
   "execution_count": 127,
   "metadata": {},
   "outputs": [
    {
     "name": "stdout",
     "output_type": "stream",
     "text": [
      "('CLIENTNO', 'NAME', 'CITY', 'PINCODE', 'STATE', 'BALDUE')\n",
      "('C00004', 'Ashwini Joshi', 'Banglore', 560001, 'karnataka', 0)\n",
      "('C00006', 'Deepak Sharma', 'Mangalore', 560050, 'Karnataka', 0)\n"
     ]
    }
   ],
   "source": [
    "# g. List the names, city and state of clients who are not in the state of ‘Maharashtra’.\n",
    "\n",
    "sql_query = '''\n",
    "            SELECT *\n",
    "            FROM CLIENT_MASTER\n",
    "            WHERE STATE != 'Maharastra'\n",
    "\n",
    "'''\n",
    "q.query(sql_query)"
   ]
  },
  {
   "cell_type": "code",
   "execution_count": 140,
   "metadata": {},
   "outputs": [
    {
     "name": "stdout",
     "output_type": "stream",
     "text": [
      "('P00001', 'T-Shirts', 4)\n",
      "('P07965', 'Denim Shirts', 2)\n",
      "('P07885', 'Pull Overs', 2)\n",
      "('P03453', 'Shirts', 2)\n",
      "('P06734', 'Cotton Jeans', 1)\n",
      "('P07965', 'Denim Shirts', 1)\n",
      "('P07965', 'Denim Shirts', 1)\n",
      "('P07975', 'Lycra Tops', 1)\n",
      "('P00001', 'T-Shirts', 10)\n",
      "('P07975', 'Lycra Tops', 5)\n"
     ]
    }
   ],
   "source": [
    "# a. Printing the description and total quantity sold for each product.\n",
    "sql_query = '''\n",
    "            \n",
    "            SELECT PRODUCT_MASTER.PRODUCTNO,PRODUCT_MASTER.DESCRIPTION, SALES_ORDER_DETAILS.QTYORDERED\n",
    "            FROM PRODUCT_MASTER\n",
    "            INNER JOIN SALES_ORDER_DETAILS ON PRODUCT_MASTER.PRODUCTNO = SALES_ORDER_DETAILS.PRODUCTNO\n",
    "\n",
    "            \n",
    "\n",
    "'''\n",
    "cursor.execute(sql_query)\n",
    "\n",
    "records = cursor.fetchall()\n",
    "for i in records:\n",
    "    print(i)\n"
   ]
  },
  {
   "cell_type": "code",
   "execution_count": 166,
   "metadata": {},
   "outputs": [
    {
     "name": "stdout",
     "output_type": "stream",
     "text": [
      "{'P00001': 14, 'P07965': 4, 'P07885': 2, 'P03453': 2, 'P06734': 1, 'P07975': 6}\n",
      "{'P00001': 'T-Shirts', 'P07965': 'Denim Shirts', 'P07885': 'Pull Overs', 'P03453': 'Shirts', 'P06734': 'Cotton Jeans', 'P07975': 'Lycra Tops'}\n",
      "P00001 T-Shirts 14\n",
      "P07965 Denim Shirts 4\n",
      "P07885 Pull Overs 2\n",
      "P03453 Shirts 2\n",
      "P06734 Cotton Jeans 1\n",
      "P07975 Lycra Tops 6\n"
     ]
    }
   ],
   "source": [
    "product_no = [item[0] for item in records ]\n",
    "desc = [item[0] for item in records ]\n",
    "qty = [item[2] for item in records]\n",
    "\n",
    "pdt_map_qty = {}\n",
    "\n",
    "for i in range(len(records)):\n",
    "    if records[i][0] not in pdt_map_qty.keys():\n",
    "        pdt_map_qty[records[i][0]] = records[i][2]\n",
    "    else:\n",
    "        pdt_map_qty[records[i][0]] += records[i][2]\n",
    "\n",
    "print(pdt_map_qty)\n",
    "\n",
    "pdt_map_desc ={}\n",
    "for i in range(len(records)):\n",
    "    if (records[i][0] not in pdt_map_desc.keys() ):\n",
    "        pdt_map_desc[records[i][0] ] = records[i][1]\n",
    "\n",
    "print(pdt_map_desc)\n",
    "\n",
    "for k,v in pdt_map_qty.items():\n",
    "    if k in pdt_map_desc.keys():\n",
    "        print(k,pdt_map_desc[k],v)\n",
    "\n",
    "\n",
    "\n"
   ]
  },
  {
   "cell_type": "code",
   "execution_count": 168,
   "metadata": {},
   "outputs": [
    {
     "name": "stdout",
     "output_type": "stream",
     "text": [
      "('CLIENTNO', 'QTYORDERED', 'PRODUCTRATE')\n",
      "('C00001', 4, Decimal('525.00'))\n",
      "('C00001', 2, Decimal('8400.00'))\n",
      "('C00001', 2, Decimal('5250.00'))\n",
      "('C00001', 2, Decimal('1050.00'))\n",
      "('C00001', 1, Decimal('12000.00'))\n",
      "('C00004', 1, Decimal('8400.00'))\n",
      "('C00004', 1, Decimal('8400.00'))\n",
      "('C00004', 1, Decimal('1050.00'))\n",
      "('C00005', 10, Decimal('525.00'))\n",
      "('C00005', 5, Decimal('1050.00'))\n"
     ]
    }
   ],
   "source": [
    "# b. Calculating the average quantity sold for each client that has a maximum order value of 15000.00.\n",
    "\n",
    "sql_query = ''' \n",
    "            SELECT SALES_ORDER.CLIENTNO,SALES_ORDER_DETAILS.QTYORDERED, SALES_ORDER_DETAILS.PRODUCTRATE\n",
    "            FROM SALES_ORDER\n",
    "            JOIN SALES_ORDER_DETAILS ON SALES_ORDER.ORDERNO = SALES_ORDER_DETAILS.ORDERNO\n",
    "'''\n",
    "\n",
    "q.query(sql_query)"
   ]
  },
  {
   "cell_type": "code",
   "execution_count": 171,
   "metadata": {},
   "outputs": [
    {
     "name": "stdout",
     "output_type": "stream",
     "text": [
      "[('C00001', 4, Decimal('525.00')), ('C00001', 2, Decimal('8400.00')), ('C00001', 2, Decimal('5250.00')), ('C00001', 2, Decimal('1050.00')), ('C00001', 1, Decimal('12000.00')), ('C00004', 1, Decimal('8400.00')), ('C00004', 1, Decimal('8400.00')), ('C00004', 1, Decimal('1050.00')), ('C00005', 10, Decimal('525.00')), ('C00005', 5, Decimal('1050.00'))]\n"
     ]
    }
   ],
   "source": [
    "sql_query = ''' \n",
    "            SELECT SALES_ORDER.CLIENTNO,SALES_ORDER_DETAILS.QTYORDERED, SALES_ORDER_DETAILS.PRODUCTRATE\n",
    "            FROM SALES_ORDER\n",
    "            JOIN SALES_ORDER_DETAILS ON SALES_ORDER.ORDERNO = SALES_ORDER_DETAILS.ORDERNO\n",
    "'''\n",
    "\n",
    "cursor.execute(sql_query)\n",
    "\n",
    "records = cursor.fetchall()\n",
    "\n",
    "print(records)"
   ]
  },
  {
   "cell_type": "code",
   "execution_count": 184,
   "metadata": {},
   "outputs": [
    {
     "name": "stdout",
     "output_type": "stream",
     "text": [
      "CLIENTNO \t AVG\n",
      "C00001 \t\t 27225.00\n",
      "C00004 \t\t 17850.00\n"
     ]
    }
   ],
   "source": [
    "mul1 =[item[1] for item in records ]\n",
    "mul2 = [item[2] for item in records]\n",
    "\n",
    "map_ = {} \n",
    "for i in range(len(records)):\n",
    "    if records[i][0] not in map_.keys():\n",
    "        map_[records[i][0]] = (records[i][1]*records[i][2])/records[i][1]\n",
    "    else:\n",
    "        map_[records[i][0]] += (records[i][1]*records[i][2])/records[i][1]\n",
    "\n",
    "print('CLIENTNO','\\t', 'AVG')\n",
    "for k,v in map_.items():\n",
    "    if v>15000:\n",
    "        print(k,'\\t\\t',v)"
   ]
  },
  {
   "cell_type": "code",
   "execution_count": 185,
   "metadata": {},
   "outputs": [],
   "source": [
    "cnx.close()"
   ]
  },
  {
   "cell_type": "code",
   "execution_count": 187,
   "metadata": {},
   "outputs": [
    {
     "data": {
      "text/plain": [
       "True"
      ]
     },
     "execution_count": 187,
     "metadata": {},
     "output_type": "execute_result"
    }
   ],
   "source": [
    "cursor.close()"
   ]
  },
  {
   "cell_type": "code",
   "execution_count": null,
   "metadata": {},
   "outputs": [],
   "source": []
  }
 ],
 "metadata": {
  "interpreter": {
   "hash": "b0fa6594d8f4cbf19f97940f81e996739fb7646882a419484c72d19e05852a7e"
  },
  "kernelspec": {
   "display_name": "Python 3.9.7 64-bit",
   "name": "python3"
  },
  "language_info": {
   "codemirror_mode": {
    "name": "ipython",
    "version": 3
   },
   "file_extension": ".py",
   "mimetype": "text/x-python",
   "name": "python",
   "nbconvert_exporter": "python",
   "pygments_lexer": "ipython3",
   "version": "3.9.7"
  },
  "orig_nbformat": 4
 },
 "nbformat": 4,
 "nbformat_minor": 2
}
